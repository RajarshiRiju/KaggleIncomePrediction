{
 "cells": [
  {
   "cell_type": "code",
   "execution_count": 1,
   "metadata": {},
   "outputs": [],
   "source": [
    "import pandas as pd\n",
    "import numpy as np\n",
    "import matplotlib.pyplot as plt\n",
    "import seaborn as sns"
   ]
  },
  {
   "cell_type": "code",
   "execution_count": 2,
   "metadata": {},
   "outputs": [],
   "source": [
    "#Read both dataset and pre-process together\n",
    "data_train = pd.read_csv(\"E:/Trinity/Machine Learning/Kaggle/tcdml1920-income-ind/tcd ml 2019-20 income prediction training (with labels).csv\")\n",
    "data_test = pd.read_csv(\"E:/Trinity/Machine Learning/Kaggle/tcdml1920-income-ind/tcd ml 2019-20 income prediction test (without labels).csv\")"
   ]
  },
  {
   "cell_type": "code",
   "execution_count": 3,
   "metadata": {},
   "outputs": [],
   "source": [
    "data = pd.concat([data_train, data_test], sort=False)"
   ]
  },
  {
   "cell_type": "code",
   "execution_count": 4,
   "metadata": {},
   "outputs": [
    {
     "data": {
      "text/html": [
       "<div>\n",
       "<style scoped>\n",
       "    .dataframe tbody tr th:only-of-type {\n",
       "        vertical-align: middle;\n",
       "    }\n",
       "\n",
       "    .dataframe tbody tr th {\n",
       "        vertical-align: top;\n",
       "    }\n",
       "\n",
       "    .dataframe thead th {\n",
       "        text-align: right;\n",
       "    }\n",
       "</style>\n",
       "<table border=\"1\" class=\"dataframe\">\n",
       "  <thead>\n",
       "    <tr style=\"text-align: right;\">\n",
       "      <th></th>\n",
       "      <th>Instance</th>\n",
       "      <th>Year of Record</th>\n",
       "      <th>Gender</th>\n",
       "      <th>Age</th>\n",
       "      <th>Country</th>\n",
       "      <th>Size of City</th>\n",
       "      <th>Profession</th>\n",
       "      <th>University Degree</th>\n",
       "      <th>Wears Glasses</th>\n",
       "      <th>Hair Color</th>\n",
       "      <th>Body Height [cm]</th>\n",
       "      <th>Income in EUR</th>\n",
       "    </tr>\n",
       "  </thead>\n",
       "  <tbody>\n",
       "    <tr>\n",
       "      <td>0</td>\n",
       "      <td>1</td>\n",
       "      <td>1997.0</td>\n",
       "      <td>0</td>\n",
       "      <td>41.0</td>\n",
       "      <td>Belarus</td>\n",
       "      <td>1239930</td>\n",
       "      <td>steel workers</td>\n",
       "      <td>Bachelor</td>\n",
       "      <td>0</td>\n",
       "      <td>Blond</td>\n",
       "      <td>193</td>\n",
       "      <td>61031.94416</td>\n",
       "    </tr>\n",
       "    <tr>\n",
       "      <td>1</td>\n",
       "      <td>2</td>\n",
       "      <td>1996.0</td>\n",
       "      <td>other</td>\n",
       "      <td>41.0</td>\n",
       "      <td>Singapore</td>\n",
       "      <td>1603504</td>\n",
       "      <td>safe event coordinator</td>\n",
       "      <td>Master</td>\n",
       "      <td>0</td>\n",
       "      <td>Black</td>\n",
       "      <td>186</td>\n",
       "      <td>91001.32764</td>\n",
       "    </tr>\n",
       "    <tr>\n",
       "      <td>2</td>\n",
       "      <td>3</td>\n",
       "      <td>2018.0</td>\n",
       "      <td>other</td>\n",
       "      <td>28.0</td>\n",
       "      <td>Norway</td>\n",
       "      <td>1298017</td>\n",
       "      <td>receivables/payables analyst</td>\n",
       "      <td>PhD</td>\n",
       "      <td>1</td>\n",
       "      <td>Brown</td>\n",
       "      <td>170</td>\n",
       "      <td>157982.17670</td>\n",
       "    </tr>\n",
       "    <tr>\n",
       "      <td>3</td>\n",
       "      <td>4</td>\n",
       "      <td>2006.0</td>\n",
       "      <td>other</td>\n",
       "      <td>33.0</td>\n",
       "      <td>Cuba</td>\n",
       "      <td>751903</td>\n",
       "      <td>fleet assistant</td>\n",
       "      <td>No</td>\n",
       "      <td>1</td>\n",
       "      <td>Black</td>\n",
       "      <td>171</td>\n",
       "      <td>45993.75793</td>\n",
       "    </tr>\n",
       "    <tr>\n",
       "      <td>4</td>\n",
       "      <td>5</td>\n",
       "      <td>2010.0</td>\n",
       "      <td>female</td>\n",
       "      <td>46.0</td>\n",
       "      <td>United Arab Emirates</td>\n",
       "      <td>95389</td>\n",
       "      <td>lead trainer</td>\n",
       "      <td>0</td>\n",
       "      <td>0</td>\n",
       "      <td>Blond</td>\n",
       "      <td>188</td>\n",
       "      <td>38022.16217</td>\n",
       "    </tr>\n",
       "  </tbody>\n",
       "</table>\n",
       "</div>"
      ],
      "text/plain": [
       "   Instance  Year of Record  Gender   Age               Country  Size of City  \\\n",
       "0         1          1997.0       0  41.0               Belarus       1239930   \n",
       "1         2          1996.0   other  41.0             Singapore       1603504   \n",
       "2         3          2018.0   other  28.0                Norway       1298017   \n",
       "3         4          2006.0   other  33.0                  Cuba        751903   \n",
       "4         5          2010.0  female  46.0  United Arab Emirates         95389   \n",
       "\n",
       "                     Profession University Degree  Wears Glasses Hair Color  \\\n",
       "0                 steel workers          Bachelor              0      Blond   \n",
       "1        safe event coordinator            Master              0      Black   \n",
       "2  receivables/payables analyst               PhD              1      Brown   \n",
       "3               fleet assistant                No              1      Black   \n",
       "4                  lead trainer                 0              0      Blond   \n",
       "\n",
       "   Body Height [cm]  Income in EUR  \n",
       "0               193    61031.94416  \n",
       "1               186    91001.32764  \n",
       "2               170   157982.17670  \n",
       "3               171    45993.75793  \n",
       "4               188    38022.16217  "
      ]
     },
     "execution_count": 4,
     "metadata": {},
     "output_type": "execute_result"
    }
   ],
   "source": [
    "data.head()"
   ]
  },
  {
   "cell_type": "code",
   "execution_count": 5,
   "metadata": {},
   "outputs": [
    {
     "data": {
      "text/plain": [
       "185223"
      ]
     },
     "execution_count": 5,
     "metadata": {},
     "output_type": "execute_result"
    }
   ],
   "source": [
    "len(data)"
   ]
  },
  {
   "cell_type": "code",
   "execution_count": 6,
   "metadata": {},
   "outputs": [],
   "source": [
    "data = data.drop(\"Instance\", axis=1)     # Drop column that has no relevance"
   ]
  },
  {
   "cell_type": "code",
   "execution_count": 7,
   "metadata": {},
   "outputs": [
    {
     "data": {
      "text/plain": [
       "Year of Record         736\n",
       "Gender               12294\n",
       "Age                    773\n",
       "Country                  0\n",
       "Size of City             0\n",
       "Profession             517\n",
       "University Degree    12227\n",
       "Wears Glasses            0\n",
       "Hair Color           12158\n",
       "Body Height [cm]         0\n",
       "Income in EUR        73230\n",
       "dtype: int64"
      ]
     },
     "execution_count": 7,
     "metadata": {},
     "output_type": "execute_result"
    }
   ],
   "source": [
    "data.isnull().sum()                      # Check dataframe for NULL values"
   ]
  },
  {
   "cell_type": "code",
   "execution_count": 8,
   "metadata": {},
   "outputs": [],
   "source": [
    "# Rename all multi-word column names to single words for easier access\n",
    "\n",
    "data = data.rename(index=str, columns={\"Body Height [cm]\" : \"Height\"})\n",
    "data = data.rename(index=str, columns={\"Year of Record\" : \"YearOfRecord\"})\n",
    "data = data.rename(index=str, columns={\"Size of City\" : \"SizeOfCity\"})\n",
    "data = data.rename(index=str, columns={\"University Degree\": \"UniversityDegree\"})\n",
    "data = data.rename(index=str, columns={\"Wears Glasses\" : \"WearsGlasses\"})\n",
    "data = data.rename(index=str, columns={\"Hair Color\" : \"HairColor\"})\n",
    "data = data.rename(index=str, columns={\"Income in EUR\" : \"Income\"})"
   ]
  },
  {
   "cell_type": "code",
   "execution_count": 9,
   "metadata": {},
   "outputs": [
    {
     "data": {
      "text/plain": [
       "array([1997., 1996., 2018., 2006., 2010., 1991., 1982., 2008., 2015.,\n",
       "       2019., 1981., 1989., 2003., 1987., 1995., 1992., 1980., 1983.,\n",
       "       2011., 2014., 1985., 2005., 1998., 2001., 2017., 2007., 1988.,\n",
       "       1994., 2012., 2009., 2013., 2004., 1999., 2002., 1993., 2000.,\n",
       "       1990., 2016.,   nan, 1986., 1984.])"
      ]
     },
     "execution_count": 9,
     "metadata": {},
     "output_type": "execute_result"
    }
   ],
   "source": [
    "data.YearOfRecord.unique()"
   ]
  },
  {
   "cell_type": "code",
   "execution_count": 10,
   "metadata": {},
   "outputs": [
    {
     "data": {
      "text/plain": [
       "array(['0', 'other', 'female', 'male', nan, 'unknown'], dtype=object)"
      ]
     },
     "execution_count": 10,
     "metadata": {},
     "output_type": "execute_result"
    }
   ],
   "source": [
    "data.Gender.unique()"
   ]
  },
  {
   "cell_type": "code",
   "execution_count": 11,
   "metadata": {},
   "outputs": [],
   "source": [
    "# Data imputation\n",
    "\n",
    "data['Gender'] = data['Gender'].replace('0', \"other\")                   \n",
    "data['Gender'] = data['Gender'].replace('unknown', pd.np.nan) "
   ]
  },
  {
   "cell_type": "code",
   "execution_count": 12,
   "metadata": {},
   "outputs": [
    {
     "data": {
      "text/plain": [
       "array([ 41.,  28.,  33.,  46.,  60.,  71.,  36.,  43.,  16.,  51.,  15.,\n",
       "        22.,  32.,  40.,  31.,  27.,  25.,  35.,  63.,  38.,  34.,  20.,\n",
       "        23.,  14.,  37.,  62.,  52.,  47.,  24.,  26.,  50.,  49.,  18.,\n",
       "        19.,  39.,  66.,  21.,  44.,  29.,  64.,  65.,  53.,  78.,  42.,\n",
       "        58.,  17.,  30.,  79.,  48.,  56.,  83.,  54.,  74.,  87.,  90.,\n",
       "        67.,  45.,  77.,  73.,  55.,  92.,  80.,  72.,  57.,  70.,  59.,\n",
       "        61.,  82.,  69.,  98.,  nan,  94.,  68.,  81.,  97.,  76.,  75.,\n",
       "        88.,  91.,  96.,  84.,  89., 107.,  85.,  86., 100., 110.,  95.,\n",
       "        99.,  93., 104., 102., 101., 105., 111., 108., 103., 109., 106.,\n",
       "       115., 120., 126., 113.])"
      ]
     },
     "execution_count": 12,
     "metadata": {},
     "output_type": "execute_result"
    }
   ],
   "source": [
    "data.Age.unique()"
   ]
  },
  {
   "cell_type": "code",
   "execution_count": 13,
   "metadata": {},
   "outputs": [
    {
     "data": {
      "text/plain": [
       "array(['Bachelor', 'Master', 'PhD', 'No', '0', nan], dtype=object)"
      ]
     },
     "execution_count": 13,
     "metadata": {},
     "output_type": "execute_result"
    }
   ],
   "source": [
    "data.UniversityDegree.unique()"
   ]
  },
  {
   "cell_type": "code",
   "execution_count": 14,
   "metadata": {},
   "outputs": [],
   "source": [
    "# Label Encoding for University Degree giving different weights to different degrees\n",
    "data['UniversityDegree'] = data['UniversityDegree'].replace('PhD', 4) \n",
    "data['UniversityDegree'] = data['UniversityDegree'].replace('Master', 3) \n",
    "data['UniversityDegree'] = data['UniversityDegree'].replace('Bachelor', 2) \n",
    "data['UniversityDegree'] = data['UniversityDegree'].replace('No', 0) \n",
    "data['UniversityDegree'] = data['UniversityDegree'].replace(pd.np.nan, 0) "
   ]
  },
  {
   "cell_type": "code",
   "execution_count": 15,
   "metadata": {},
   "outputs": [
    {
     "data": {
      "text/plain": [
       "array([0, 1], dtype=int64)"
      ]
     },
     "execution_count": 15,
     "metadata": {},
     "output_type": "execute_result"
    }
   ],
   "source": [
    "data.WearsGlasses.unique()"
   ]
  },
  {
   "cell_type": "code",
   "execution_count": 16,
   "metadata": {},
   "outputs": [
    {
     "data": {
      "text/plain": [
       "array(['Blond', 'Black', 'Brown', nan, 'Red', 'Unknown', '0'],\n",
       "      dtype=object)"
      ]
     },
     "execution_count": 16,
     "metadata": {},
     "output_type": "execute_result"
    }
   ],
   "source": [
    "data.HairColor.unique()"
   ]
  },
  {
   "cell_type": "code",
   "execution_count": 17,
   "metadata": {},
   "outputs": [],
   "source": [
    "data['HairColor'] = data['HairColor'].replace('0', pd.np.nan) \n",
    "data['HairColor'] = data['HairColor'].replace('Unknown', pd.np.nan)"
   ]
  },
  {
   "cell_type": "code",
   "execution_count": 18,
   "metadata": {},
   "outputs": [],
   "source": [
    "# Function to implement Target Encoding\n",
    "def calc_smooth_mean(df, by, on, m):\n",
    "    mean = df[on].mean()                                 # Compute the global mean\n",
    "    agg = df.groupby(by)[on].agg(['count', 'mean'])      # Compute number of values & mean of each group\n",
    "    counts = agg['count']\n",
    "    means = agg['mean']\n",
    "\n",
    "    smooth = (counts * means + m * mean) / (counts + m)  # Compute the \"smoothed\" means\n",
    "    # Replace each value by the according smoothed mean\n",
    "    return df[by].map(smooth)"
   ]
  },
  {
   "cell_type": "code",
   "execution_count": 19,
   "metadata": {},
   "outputs": [],
   "source": [
    "# Target Encoding on Country\n",
    "data['Country'] = calc_smooth_mean(data, 'Country', 'Income', 2)"
   ]
  },
  {
   "cell_type": "code",
   "execution_count": 20,
   "metadata": {},
   "outputs": [],
   "source": [
    "# Target Encoding on Profession (More weight given for column with null values)\n",
    "data['Profession'] = calc_smooth_mean(data, 'Profession', 'Income', 50)"
   ]
  },
  {
   "cell_type": "code",
   "execution_count": 21,
   "metadata": {},
   "outputs": [
    {
     "data": {
      "text/html": [
       "<div>\n",
       "<style scoped>\n",
       "    .dataframe tbody tr th:only-of-type {\n",
       "        vertical-align: middle;\n",
       "    }\n",
       "\n",
       "    .dataframe tbody tr th {\n",
       "        vertical-align: top;\n",
       "    }\n",
       "\n",
       "    .dataframe thead th {\n",
       "        text-align: right;\n",
       "    }\n",
       "</style>\n",
       "<table border=\"1\" class=\"dataframe\">\n",
       "  <thead>\n",
       "    <tr style=\"text-align: right;\">\n",
       "      <th></th>\n",
       "      <th>YearOfRecord</th>\n",
       "      <th>Gender</th>\n",
       "      <th>Age</th>\n",
       "      <th>Country</th>\n",
       "      <th>SizeOfCity</th>\n",
       "      <th>Profession</th>\n",
       "      <th>UniversityDegree</th>\n",
       "      <th>WearsGlasses</th>\n",
       "      <th>HairColor</th>\n",
       "      <th>Height</th>\n",
       "      <th>Income</th>\n",
       "    </tr>\n",
       "  </thead>\n",
       "  <tbody>\n",
       "    <tr>\n",
       "      <td>0</td>\n",
       "      <td>1997.0</td>\n",
       "      <td>other</td>\n",
       "      <td>41.0</td>\n",
       "      <td>33188.806425</td>\n",
       "      <td>1239930</td>\n",
       "      <td>134565.216092</td>\n",
       "      <td>2</td>\n",
       "      <td>0</td>\n",
       "      <td>Blond</td>\n",
       "      <td>193</td>\n",
       "      <td>61031.94416</td>\n",
       "    </tr>\n",
       "    <tr>\n",
       "      <td>1</td>\n",
       "      <td>1996.0</td>\n",
       "      <td>other</td>\n",
       "      <td>41.0</td>\n",
       "      <td>56341.514457</td>\n",
       "      <td>1603504</td>\n",
       "      <td>129098.312715</td>\n",
       "      <td>3</td>\n",
       "      <td>0</td>\n",
       "      <td>Black</td>\n",
       "      <td>186</td>\n",
       "      <td>91001.32764</td>\n",
       "    </tr>\n",
       "    <tr>\n",
       "      <td>2</td>\n",
       "      <td>2018.0</td>\n",
       "      <td>other</td>\n",
       "      <td>28.0</td>\n",
       "      <td>87145.867608</td>\n",
       "      <td>1298017</td>\n",
       "      <td>115618.688793</td>\n",
       "      <td>4</td>\n",
       "      <td>1</td>\n",
       "      <td>Brown</td>\n",
       "      <td>170</td>\n",
       "      <td>157982.17670</td>\n",
       "    </tr>\n",
       "    <tr>\n",
       "      <td>3</td>\n",
       "      <td>2006.0</td>\n",
       "      <td>other</td>\n",
       "      <td>33.0</td>\n",
       "      <td>100619.026294</td>\n",
       "      <td>751903</td>\n",
       "      <td>83784.547676</td>\n",
       "      <td>0</td>\n",
       "      <td>1</td>\n",
       "      <td>Black</td>\n",
       "      <td>171</td>\n",
       "      <td>45993.75793</td>\n",
       "    </tr>\n",
       "    <tr>\n",
       "      <td>4</td>\n",
       "      <td>2010.0</td>\n",
       "      <td>female</td>\n",
       "      <td>46.0</td>\n",
       "      <td>42837.800904</td>\n",
       "      <td>95389</td>\n",
       "      <td>93117.076103</td>\n",
       "      <td>0</td>\n",
       "      <td>0</td>\n",
       "      <td>Blond</td>\n",
       "      <td>188</td>\n",
       "      <td>38022.16217</td>\n",
       "    </tr>\n",
       "  </tbody>\n",
       "</table>\n",
       "</div>"
      ],
      "text/plain": [
       "   YearOfRecord  Gender   Age        Country  SizeOfCity     Profession  \\\n",
       "0        1997.0   other  41.0   33188.806425     1239930  134565.216092   \n",
       "1        1996.0   other  41.0   56341.514457     1603504  129098.312715   \n",
       "2        2018.0   other  28.0   87145.867608     1298017  115618.688793   \n",
       "3        2006.0   other  33.0  100619.026294      751903   83784.547676   \n",
       "4        2010.0  female  46.0   42837.800904       95389   93117.076103   \n",
       "\n",
       "  UniversityDegree  WearsGlasses HairColor  Height        Income  \n",
       "0                2             0     Blond     193   61031.94416  \n",
       "1                3             0     Black     186   91001.32764  \n",
       "2                4             1     Brown     170  157982.17670  \n",
       "3                0             1     Black     171   45993.75793  \n",
       "4                0             0     Blond     188   38022.16217  "
      ]
     },
     "execution_count": 21,
     "metadata": {},
     "output_type": "execute_result"
    }
   ],
   "source": [
    "data.head()"
   ]
  },
  {
   "cell_type": "code",
   "execution_count": 22,
   "metadata": {},
   "outputs": [
    {
     "data": {
      "text/plain": [
       "YearOfRecord          736\n",
       "Gender              23489\n",
       "Age                   773\n",
       "Country                10\n",
       "SizeOfCity              0\n",
       "Profession            538\n",
       "UniversityDegree        0\n",
       "WearsGlasses            0\n",
       "HairColor           13276\n",
       "Height                  0\n",
       "Income              73230\n",
       "dtype: int64"
      ]
     },
     "execution_count": 22,
     "metadata": {},
     "output_type": "execute_result"
    }
   ],
   "source": [
    "data.isnull().sum()"
   ]
  },
  {
   "cell_type": "code",
   "execution_count": 23,
   "metadata": {},
   "outputs": [
    {
     "data": {
      "text/html": [
       "<div>\n",
       "<style scoped>\n",
       "    .dataframe tbody tr th:only-of-type {\n",
       "        vertical-align: middle;\n",
       "    }\n",
       "\n",
       "    .dataframe tbody tr th {\n",
       "        vertical-align: top;\n",
       "    }\n",
       "\n",
       "    .dataframe thead th {\n",
       "        text-align: right;\n",
       "    }\n",
       "</style>\n",
       "<table border=\"1\" class=\"dataframe\">\n",
       "  <thead>\n",
       "    <tr style=\"text-align: right;\">\n",
       "      <th></th>\n",
       "      <th>YearOfRecord</th>\n",
       "      <th>Gender</th>\n",
       "      <th>Age</th>\n",
       "      <th>Country</th>\n",
       "      <th>SizeOfCity</th>\n",
       "      <th>Profession</th>\n",
       "      <th>UniversityDegree</th>\n",
       "      <th>WearsGlasses</th>\n",
       "      <th>HairColor</th>\n",
       "      <th>Height</th>\n",
       "      <th>Income</th>\n",
       "    </tr>\n",
       "  </thead>\n",
       "  <tbody>\n",
       "    <tr>\n",
       "      <td>0</td>\n",
       "      <td>1997.0</td>\n",
       "      <td>other</td>\n",
       "      <td>41.0</td>\n",
       "      <td>33188.806425</td>\n",
       "      <td>1239930</td>\n",
       "      <td>134565.216092</td>\n",
       "      <td>2</td>\n",
       "      <td>0</td>\n",
       "      <td>Blond</td>\n",
       "      <td>193</td>\n",
       "      <td>61031.94416</td>\n",
       "    </tr>\n",
       "    <tr>\n",
       "      <td>1</td>\n",
       "      <td>1996.0</td>\n",
       "      <td>other</td>\n",
       "      <td>41.0</td>\n",
       "      <td>56341.514457</td>\n",
       "      <td>1603504</td>\n",
       "      <td>129098.312715</td>\n",
       "      <td>3</td>\n",
       "      <td>0</td>\n",
       "      <td>Black</td>\n",
       "      <td>186</td>\n",
       "      <td>91001.32764</td>\n",
       "    </tr>\n",
       "    <tr>\n",
       "      <td>2</td>\n",
       "      <td>2018.0</td>\n",
       "      <td>other</td>\n",
       "      <td>28.0</td>\n",
       "      <td>87145.867608</td>\n",
       "      <td>1298017</td>\n",
       "      <td>115618.688793</td>\n",
       "      <td>4</td>\n",
       "      <td>1</td>\n",
       "      <td>Brown</td>\n",
       "      <td>170</td>\n",
       "      <td>157982.17670</td>\n",
       "    </tr>\n",
       "    <tr>\n",
       "      <td>3</td>\n",
       "      <td>2006.0</td>\n",
       "      <td>other</td>\n",
       "      <td>33.0</td>\n",
       "      <td>100619.026294</td>\n",
       "      <td>751903</td>\n",
       "      <td>83784.547676</td>\n",
       "      <td>0</td>\n",
       "      <td>1</td>\n",
       "      <td>Black</td>\n",
       "      <td>171</td>\n",
       "      <td>45993.75793</td>\n",
       "    </tr>\n",
       "    <tr>\n",
       "      <td>4</td>\n",
       "      <td>2010.0</td>\n",
       "      <td>female</td>\n",
       "      <td>46.0</td>\n",
       "      <td>42837.800904</td>\n",
       "      <td>95389</td>\n",
       "      <td>93117.076103</td>\n",
       "      <td>0</td>\n",
       "      <td>0</td>\n",
       "      <td>Blond</td>\n",
       "      <td>188</td>\n",
       "      <td>38022.16217</td>\n",
       "    </tr>\n",
       "  </tbody>\n",
       "</table>\n",
       "</div>"
      ],
      "text/plain": [
       "   YearOfRecord  Gender   Age        Country  SizeOfCity     Profession  \\\n",
       "0        1997.0   other  41.0   33188.806425     1239930  134565.216092   \n",
       "1        1996.0   other  41.0   56341.514457     1603504  129098.312715   \n",
       "2        2018.0   other  28.0   87145.867608     1298017  115618.688793   \n",
       "3        2006.0   other  33.0  100619.026294      751903   83784.547676   \n",
       "4        2010.0  female  46.0   42837.800904       95389   93117.076103   \n",
       "\n",
       "  UniversityDegree  WearsGlasses HairColor  Height        Income  \n",
       "0                2             0     Blond     193   61031.94416  \n",
       "1                3             0     Black     186   91001.32764  \n",
       "2                4             1     Brown     170  157982.17670  \n",
       "3                0             1     Black     171   45993.75793  \n",
       "4                0             0     Blond     188   38022.16217  "
      ]
     },
     "execution_count": 23,
     "metadata": {},
     "output_type": "execute_result"
    }
   ],
   "source": [
    "data.head()"
   ]
  },
  {
   "cell_type": "code",
   "execution_count": 24,
   "metadata": {},
   "outputs": [
    {
     "data": {
      "text/plain": [
       "'\\ndata.drop(\"YearOfRecord\", axis=1)\\ndata.drop(\"Country\", axis=1)\\ndata.drop(\"WearsGlasses\", axis=1)\\n'"
      ]
     },
     "execution_count": 24,
     "metadata": {},
     "output_type": "execute_result"
    }
   ],
   "source": [
    "'''\n",
    "data.drop(\"YearOfRecord\", axis=1)\n",
    "data.drop(\"Country\", axis=1)\n",
    "data.drop(\"WearsGlasses\", axis=1)\n",
    "'''\n",
    "\n"
   ]
  },
  {
   "cell_type": "code",
   "execution_count": 25,
   "metadata": {},
   "outputs": [],
   "source": [
    "# One Hot Encoding \n",
    "data1 = pd.get_dummies(data, columns=[\"Gender\"], drop_first = True)\n",
    "#data1 = pd.get_dummies(data1, columns=[\"Country\"], drop_first = True)\n",
    "#data1 = pd.get_dummies(data1, columns=[\"Profession\"], drop_first = True)\n",
    "#data1 = pd.get_dummies(data1, columns=[\"UniversityDegree\"], drop_first = True)\n",
    "data1 = pd.get_dummies(data1, columns=[\"HairColor\"], drop_first = True)"
   ]
  },
  {
   "cell_type": "code",
   "execution_count": 26,
   "metadata": {},
   "outputs": [
    {
     "data": {
      "text/html": [
       "<div>\n",
       "<style scoped>\n",
       "    .dataframe tbody tr th:only-of-type {\n",
       "        vertical-align: middle;\n",
       "    }\n",
       "\n",
       "    .dataframe tbody tr th {\n",
       "        vertical-align: top;\n",
       "    }\n",
       "\n",
       "    .dataframe thead th {\n",
       "        text-align: right;\n",
       "    }\n",
       "</style>\n",
       "<table border=\"1\" class=\"dataframe\">\n",
       "  <thead>\n",
       "    <tr style=\"text-align: right;\">\n",
       "      <th></th>\n",
       "      <th>YearOfRecord</th>\n",
       "      <th>Age</th>\n",
       "      <th>Country</th>\n",
       "      <th>SizeOfCity</th>\n",
       "      <th>Profession</th>\n",
       "      <th>UniversityDegree</th>\n",
       "      <th>WearsGlasses</th>\n",
       "      <th>Height</th>\n",
       "      <th>Income</th>\n",
       "      <th>Gender_male</th>\n",
       "      <th>Gender_other</th>\n",
       "      <th>HairColor_Blond</th>\n",
       "      <th>HairColor_Brown</th>\n",
       "      <th>HairColor_Red</th>\n",
       "    </tr>\n",
       "  </thead>\n",
       "  <tbody>\n",
       "    <tr>\n",
       "      <td>0</td>\n",
       "      <td>1997.0</td>\n",
       "      <td>41.0</td>\n",
       "      <td>33188.806425</td>\n",
       "      <td>1239930</td>\n",
       "      <td>134565.216092</td>\n",
       "      <td>2</td>\n",
       "      <td>0</td>\n",
       "      <td>193</td>\n",
       "      <td>61031.94416</td>\n",
       "      <td>0</td>\n",
       "      <td>1</td>\n",
       "      <td>1</td>\n",
       "      <td>0</td>\n",
       "      <td>0</td>\n",
       "    </tr>\n",
       "    <tr>\n",
       "      <td>1</td>\n",
       "      <td>1996.0</td>\n",
       "      <td>41.0</td>\n",
       "      <td>56341.514457</td>\n",
       "      <td>1603504</td>\n",
       "      <td>129098.312715</td>\n",
       "      <td>3</td>\n",
       "      <td>0</td>\n",
       "      <td>186</td>\n",
       "      <td>91001.32764</td>\n",
       "      <td>0</td>\n",
       "      <td>1</td>\n",
       "      <td>0</td>\n",
       "      <td>0</td>\n",
       "      <td>0</td>\n",
       "    </tr>\n",
       "    <tr>\n",
       "      <td>2</td>\n",
       "      <td>2018.0</td>\n",
       "      <td>28.0</td>\n",
       "      <td>87145.867608</td>\n",
       "      <td>1298017</td>\n",
       "      <td>115618.688793</td>\n",
       "      <td>4</td>\n",
       "      <td>1</td>\n",
       "      <td>170</td>\n",
       "      <td>157982.17670</td>\n",
       "      <td>0</td>\n",
       "      <td>1</td>\n",
       "      <td>0</td>\n",
       "      <td>1</td>\n",
       "      <td>0</td>\n",
       "    </tr>\n",
       "    <tr>\n",
       "      <td>3</td>\n",
       "      <td>2006.0</td>\n",
       "      <td>33.0</td>\n",
       "      <td>100619.026294</td>\n",
       "      <td>751903</td>\n",
       "      <td>83784.547676</td>\n",
       "      <td>0</td>\n",
       "      <td>1</td>\n",
       "      <td>171</td>\n",
       "      <td>45993.75793</td>\n",
       "      <td>0</td>\n",
       "      <td>1</td>\n",
       "      <td>0</td>\n",
       "      <td>0</td>\n",
       "      <td>0</td>\n",
       "    </tr>\n",
       "    <tr>\n",
       "      <td>4</td>\n",
       "      <td>2010.0</td>\n",
       "      <td>46.0</td>\n",
       "      <td>42837.800904</td>\n",
       "      <td>95389</td>\n",
       "      <td>93117.076103</td>\n",
       "      <td>0</td>\n",
       "      <td>0</td>\n",
       "      <td>188</td>\n",
       "      <td>38022.16217</td>\n",
       "      <td>0</td>\n",
       "      <td>0</td>\n",
       "      <td>1</td>\n",
       "      <td>0</td>\n",
       "      <td>0</td>\n",
       "    </tr>\n",
       "    <tr>\n",
       "      <td>...</td>\n",
       "      <td>...</td>\n",
       "      <td>...</td>\n",
       "      <td>...</td>\n",
       "      <td>...</td>\n",
       "      <td>...</td>\n",
       "      <td>...</td>\n",
       "      <td>...</td>\n",
       "      <td>...</td>\n",
       "      <td>...</td>\n",
       "      <td>...</td>\n",
       "      <td>...</td>\n",
       "      <td>...</td>\n",
       "      <td>...</td>\n",
       "      <td>...</td>\n",
       "    </tr>\n",
       "    <tr>\n",
       "      <td>73225</td>\n",
       "      <td>2012.0</td>\n",
       "      <td>37.0</td>\n",
       "      <td>87145.867608</td>\n",
       "      <td>62975</td>\n",
       "      <td>96669.318540</td>\n",
       "      <td>2</td>\n",
       "      <td>0</td>\n",
       "      <td>203</td>\n",
       "      <td>NaN</td>\n",
       "      <td>1</td>\n",
       "      <td>0</td>\n",
       "      <td>0</td>\n",
       "      <td>1</td>\n",
       "      <td>0</td>\n",
       "    </tr>\n",
       "    <tr>\n",
       "      <td>73226</td>\n",
       "      <td>2016.0</td>\n",
       "      <td>42.0</td>\n",
       "      <td>72369.724328</td>\n",
       "      <td>46819</td>\n",
       "      <td>110315.103844</td>\n",
       "      <td>0</td>\n",
       "      <td>0</td>\n",
       "      <td>181</td>\n",
       "      <td>NaN</td>\n",
       "      <td>0</td>\n",
       "      <td>1</td>\n",
       "      <td>0</td>\n",
       "      <td>0</td>\n",
       "      <td>0</td>\n",
       "    </tr>\n",
       "    <tr>\n",
       "      <td>73227</td>\n",
       "      <td>2019.0</td>\n",
       "      <td>50.0</td>\n",
       "      <td>46320.066299</td>\n",
       "      <td>525072</td>\n",
       "      <td>90328.171180</td>\n",
       "      <td>3</td>\n",
       "      <td>1</td>\n",
       "      <td>162</td>\n",
       "      <td>NaN</td>\n",
       "      <td>0</td>\n",
       "      <td>1</td>\n",
       "      <td>0</td>\n",
       "      <td>1</td>\n",
       "      <td>0</td>\n",
       "    </tr>\n",
       "    <tr>\n",
       "      <td>73228</td>\n",
       "      <td>1980.0</td>\n",
       "      <td>54.0</td>\n",
       "      <td>252230.618903</td>\n",
       "      <td>915892</td>\n",
       "      <td>85715.746612</td>\n",
       "      <td>3</td>\n",
       "      <td>1</td>\n",
       "      <td>162</td>\n",
       "      <td>NaN</td>\n",
       "      <td>0</td>\n",
       "      <td>0</td>\n",
       "      <td>0</td>\n",
       "      <td>1</td>\n",
       "      <td>0</td>\n",
       "    </tr>\n",
       "    <tr>\n",
       "      <td>73229</td>\n",
       "      <td>2017.0</td>\n",
       "      <td>41.0</td>\n",
       "      <td>135680.229754</td>\n",
       "      <td>62607</td>\n",
       "      <td>105817.832455</td>\n",
       "      <td>3</td>\n",
       "      <td>0</td>\n",
       "      <td>197</td>\n",
       "      <td>NaN</td>\n",
       "      <td>0</td>\n",
       "      <td>1</td>\n",
       "      <td>0</td>\n",
       "      <td>1</td>\n",
       "      <td>0</td>\n",
       "    </tr>\n",
       "  </tbody>\n",
       "</table>\n",
       "<p>185223 rows × 14 columns</p>\n",
       "</div>"
      ],
      "text/plain": [
       "       YearOfRecord   Age        Country  SizeOfCity     Profession  \\\n",
       "0            1997.0  41.0   33188.806425     1239930  134565.216092   \n",
       "1            1996.0  41.0   56341.514457     1603504  129098.312715   \n",
       "2            2018.0  28.0   87145.867608     1298017  115618.688793   \n",
       "3            2006.0  33.0  100619.026294      751903   83784.547676   \n",
       "4            2010.0  46.0   42837.800904       95389   93117.076103   \n",
       "...             ...   ...            ...         ...            ...   \n",
       "73225        2012.0  37.0   87145.867608       62975   96669.318540   \n",
       "73226        2016.0  42.0   72369.724328       46819  110315.103844   \n",
       "73227        2019.0  50.0   46320.066299      525072   90328.171180   \n",
       "73228        1980.0  54.0  252230.618903      915892   85715.746612   \n",
       "73229        2017.0  41.0  135680.229754       62607  105817.832455   \n",
       "\n",
       "      UniversityDegree  WearsGlasses  Height        Income  Gender_male  \\\n",
       "0                    2             0     193   61031.94416            0   \n",
       "1                    3             0     186   91001.32764            0   \n",
       "2                    4             1     170  157982.17670            0   \n",
       "3                    0             1     171   45993.75793            0   \n",
       "4                    0             0     188   38022.16217            0   \n",
       "...                ...           ...     ...           ...          ...   \n",
       "73225                2             0     203           NaN            1   \n",
       "73226                0             0     181           NaN            0   \n",
       "73227                3             1     162           NaN            0   \n",
       "73228                3             1     162           NaN            0   \n",
       "73229                3             0     197           NaN            0   \n",
       "\n",
       "       Gender_other  HairColor_Blond  HairColor_Brown  HairColor_Red  \n",
       "0                 1                1                0              0  \n",
       "1                 1                0                0              0  \n",
       "2                 1                0                1              0  \n",
       "3                 1                0                0              0  \n",
       "4                 0                1                0              0  \n",
       "...             ...              ...              ...            ...  \n",
       "73225             0                0                1              0  \n",
       "73226             1                0                0              0  \n",
       "73227             1                0                1              0  \n",
       "73228             0                0                1              0  \n",
       "73229             1                0                1              0  \n",
       "\n",
       "[185223 rows x 14 columns]"
      ]
     },
     "execution_count": 26,
     "metadata": {},
     "output_type": "execute_result"
    }
   ],
   "source": [
    "pd.set_option('display.max_columns', 100)\n",
    "data1"
   ]
  },
  {
   "cell_type": "code",
   "execution_count": 27,
   "metadata": {},
   "outputs": [
    {
     "data": {
      "text/plain": [
       "YearOfRecord          736\n",
       "Age                   773\n",
       "Country                10\n",
       "SizeOfCity              0\n",
       "Profession            538\n",
       "UniversityDegree        0\n",
       "WearsGlasses            0\n",
       "Height                  0\n",
       "Income              73230\n",
       "Gender_male             0\n",
       "Gender_other            0\n",
       "HairColor_Blond         0\n",
       "HairColor_Brown         0\n",
       "HairColor_Red           0\n",
       "dtype: int64"
      ]
     },
     "execution_count": 27,
     "metadata": {},
     "output_type": "execute_result"
    }
   ],
   "source": [
    "data1.isnull().sum()"
   ]
  },
  {
   "cell_type": "code",
   "execution_count": 28,
   "metadata": {},
   "outputs": [
    {
     "data": {
      "text/html": [
       "<div>\n",
       "<style scoped>\n",
       "    .dataframe tbody tr th:only-of-type {\n",
       "        vertical-align: middle;\n",
       "    }\n",
       "\n",
       "    .dataframe tbody tr th {\n",
       "        vertical-align: top;\n",
       "    }\n",
       "\n",
       "    .dataframe thead th {\n",
       "        text-align: right;\n",
       "    }\n",
       "</style>\n",
       "<table border=\"1\" class=\"dataframe\">\n",
       "  <thead>\n",
       "    <tr style=\"text-align: right;\">\n",
       "      <th></th>\n",
       "      <th>YearOfRecord</th>\n",
       "      <th>Age</th>\n",
       "      <th>Country</th>\n",
       "      <th>SizeOfCity</th>\n",
       "      <th>Profession</th>\n",
       "      <th>UniversityDegree</th>\n",
       "      <th>WearsGlasses</th>\n",
       "      <th>Height</th>\n",
       "      <th>Income</th>\n",
       "      <th>Gender_male</th>\n",
       "      <th>Gender_other</th>\n",
       "      <th>HairColor_Blond</th>\n",
       "      <th>HairColor_Brown</th>\n",
       "      <th>HairColor_Red</th>\n",
       "    </tr>\n",
       "  </thead>\n",
       "  <tbody>\n",
       "    <tr>\n",
       "      <td>73225</td>\n",
       "      <td>2012.0</td>\n",
       "      <td>37.0</td>\n",
       "      <td>87145.867608</td>\n",
       "      <td>62975</td>\n",
       "      <td>96669.318540</td>\n",
       "      <td>2</td>\n",
       "      <td>0</td>\n",
       "      <td>203</td>\n",
       "      <td>NaN</td>\n",
       "      <td>1</td>\n",
       "      <td>0</td>\n",
       "      <td>0</td>\n",
       "      <td>1</td>\n",
       "      <td>0</td>\n",
       "    </tr>\n",
       "    <tr>\n",
       "      <td>73226</td>\n",
       "      <td>2016.0</td>\n",
       "      <td>42.0</td>\n",
       "      <td>72369.724328</td>\n",
       "      <td>46819</td>\n",
       "      <td>110315.103844</td>\n",
       "      <td>0</td>\n",
       "      <td>0</td>\n",
       "      <td>181</td>\n",
       "      <td>NaN</td>\n",
       "      <td>0</td>\n",
       "      <td>1</td>\n",
       "      <td>0</td>\n",
       "      <td>0</td>\n",
       "      <td>0</td>\n",
       "    </tr>\n",
       "    <tr>\n",
       "      <td>73227</td>\n",
       "      <td>2019.0</td>\n",
       "      <td>50.0</td>\n",
       "      <td>46320.066299</td>\n",
       "      <td>525072</td>\n",
       "      <td>90328.171180</td>\n",
       "      <td>3</td>\n",
       "      <td>1</td>\n",
       "      <td>162</td>\n",
       "      <td>NaN</td>\n",
       "      <td>0</td>\n",
       "      <td>1</td>\n",
       "      <td>0</td>\n",
       "      <td>1</td>\n",
       "      <td>0</td>\n",
       "    </tr>\n",
       "    <tr>\n",
       "      <td>73228</td>\n",
       "      <td>1980.0</td>\n",
       "      <td>54.0</td>\n",
       "      <td>252230.618903</td>\n",
       "      <td>915892</td>\n",
       "      <td>85715.746612</td>\n",
       "      <td>3</td>\n",
       "      <td>1</td>\n",
       "      <td>162</td>\n",
       "      <td>NaN</td>\n",
       "      <td>0</td>\n",
       "      <td>0</td>\n",
       "      <td>0</td>\n",
       "      <td>1</td>\n",
       "      <td>0</td>\n",
       "    </tr>\n",
       "    <tr>\n",
       "      <td>73229</td>\n",
       "      <td>2017.0</td>\n",
       "      <td>41.0</td>\n",
       "      <td>135680.229754</td>\n",
       "      <td>62607</td>\n",
       "      <td>105817.832455</td>\n",
       "      <td>3</td>\n",
       "      <td>0</td>\n",
       "      <td>197</td>\n",
       "      <td>NaN</td>\n",
       "      <td>0</td>\n",
       "      <td>1</td>\n",
       "      <td>0</td>\n",
       "      <td>1</td>\n",
       "      <td>0</td>\n",
       "    </tr>\n",
       "  </tbody>\n",
       "</table>\n",
       "</div>"
      ],
      "text/plain": [
       "       YearOfRecord   Age        Country  SizeOfCity     Profession  \\\n",
       "73225        2012.0  37.0   87145.867608       62975   96669.318540   \n",
       "73226        2016.0  42.0   72369.724328       46819  110315.103844   \n",
       "73227        2019.0  50.0   46320.066299      525072   90328.171180   \n",
       "73228        1980.0  54.0  252230.618903      915892   85715.746612   \n",
       "73229        2017.0  41.0  135680.229754       62607  105817.832455   \n",
       "\n",
       "      UniversityDegree  WearsGlasses  Height  Income  Gender_male  \\\n",
       "73225                2             0     203     NaN            1   \n",
       "73226                0             0     181     NaN            0   \n",
       "73227                3             1     162     NaN            0   \n",
       "73228                3             1     162     NaN            0   \n",
       "73229                3             0     197     NaN            0   \n",
       "\n",
       "       Gender_other  HairColor_Blond  HairColor_Brown  HairColor_Red  \n",
       "73225             0                0                1              0  \n",
       "73226             1                0                0              0  \n",
       "73227             1                0                1              0  \n",
       "73228             0                0                1              0  \n",
       "73229             1                0                1              0  "
      ]
     },
     "execution_count": 28,
     "metadata": {},
     "output_type": "execute_result"
    }
   ],
   "source": [
    "data1.tail()"
   ]
  },
  {
   "cell_type": "code",
   "execution_count": 29,
   "metadata": {},
   "outputs": [],
   "source": [
    "X_train = data1[0:len(data_train)]          # Dataframe again split into training and test dataset"
   ]
  },
  {
   "cell_type": "code",
   "execution_count": 30,
   "metadata": {},
   "outputs": [
    {
     "data": {
      "text/plain": [
       "111993"
      ]
     },
     "execution_count": 30,
     "metadata": {},
     "output_type": "execute_result"
    }
   ],
   "source": [
    "len(X_train)"
   ]
  },
  {
   "cell_type": "code",
   "execution_count": 31,
   "metadata": {},
   "outputs": [
    {
     "name": "stderr",
     "output_type": "stream",
     "text": [
      "C:\\Users\\Lenovo\\Anaconda3\\lib\\site-packages\\pandas\\core\\generic.py:6287: SettingWithCopyWarning: \n",
      "A value is trying to be set on a copy of a slice from a DataFrame\n",
      "\n",
      "See the caveats in the documentation: http://pandas.pydata.org/pandas-docs/stable/user_guide/indexing.html#returning-a-view-versus-a-copy\n",
      "  self._update_inplace(new_data)\n"
     ]
    }
   ],
   "source": [
    "# Fill null values \n",
    "X_train[\"YearOfRecord\"].fillna((X_train[\"YearOfRecord\"].mean()), inplace=True )\n",
    "X_train[\"Age\"].fillna((X_train[\"Age\"].mean()), inplace=True )\n",
    "X_train[\"Profession\"].fillna((X_train[\"Profession\"].mean()), inplace=True )"
   ]
  },
  {
   "cell_type": "code",
   "execution_count": 32,
   "metadata": {},
   "outputs": [
    {
     "data": {
      "text/plain": [
       "YearOfRecord        0\n",
       "Age                 0\n",
       "Country             0\n",
       "SizeOfCity          0\n",
       "Profession          0\n",
       "UniversityDegree    0\n",
       "WearsGlasses        0\n",
       "Height              0\n",
       "Income              0\n",
       "Gender_male         0\n",
       "Gender_other        0\n",
       "HairColor_Blond     0\n",
       "HairColor_Brown     0\n",
       "HairColor_Red       0\n",
       "dtype: int64"
      ]
     },
     "execution_count": 32,
     "metadata": {},
     "output_type": "execute_result"
    }
   ],
   "source": [
    "X_train.isnull().sum()"
   ]
  },
  {
   "cell_type": "code",
   "execution_count": 33,
   "metadata": {},
   "outputs": [],
   "source": [
    "Y_train = X_train[[\"Income\"]]                # Split table into predictors and response\n",
    "X_train = X_train.drop(\"Income\", axis=1)"
   ]
  },
  {
   "cell_type": "code",
   "execution_count": 34,
   "metadata": {},
   "outputs": [],
   "source": [
    "# Split Training Data into training and holout data \n",
    "\n",
    "from sklearn.model_selection import train_test_split, cross_val_score, GridSearchCV\n",
    "X_training, X_holdOut, Y_training, Y_holdOut = train_test_split(X_train, Y_train, train_size=0.9, random_state=100)"
   ]
  },
  {
   "cell_type": "code",
   "execution_count": 35,
   "metadata": {},
   "outputs": [],
   "source": [
    "# Apply RandomForestRegressor on training data\n",
    "\n",
    "from sklearn.ensemble import RandomForestRegressor\n",
    "LR = RandomForestRegressor(n_estimators=1000, random_state=100)\n",
    "#LR = RandomForestRegressor(max_depth=4, max_features='log2', min_samples_leaf=0.1, n_estimators=400, random_state=100)"
   ]
  },
  {
   "cell_type": "code",
   "execution_count": 36,
   "metadata": {},
   "outputs": [
    {
     "name": "stderr",
     "output_type": "stream",
     "text": [
      "C:\\Users\\Lenovo\\Anaconda3\\lib\\site-packages\\ipykernel_launcher.py:1: DataConversionWarning: A column-vector y was passed when a 1d array was expected. Please change the shape of y to (n_samples,), for example using ravel().\n",
      "  \"\"\"Entry point for launching an IPython kernel.\n"
     ]
    }
   ],
   "source": [
    "model = LR.fit(X_training, Y_training)        # Fit the RFR model"
   ]
  },
  {
   "cell_type": "code",
   "execution_count": 38,
   "metadata": {},
   "outputs": [],
   "source": [
    "# Predict the holdout data\n",
    "from sklearn.metrics import mean_squared_error, r2_score\n",
    "ypred = model.predict(X_holdOut)"
   ]
  },
  {
   "cell_type": "code",
   "execution_count": 39,
   "metadata": {},
   "outputs": [
    {
     "data": {
      "text/plain": [
       "60526.990096858084"
      ]
     },
     "execution_count": 39,
     "metadata": {},
     "output_type": "execute_result"
    }
   ],
   "source": [
    "# Calculate the different metrics\n",
    "import math\n",
    "\n",
    "mse = mean_squared_error(Y_holdOut, ypred)\n",
    "rmse = math.sqrt(mse)\n",
    "rmse"
   ]
  },
  {
   "cell_type": "code",
   "execution_count": 40,
   "metadata": {},
   "outputs": [],
   "source": [
    "####################################### Prediction Time####################################\n",
    "\n",
    "X_test = data1[len(data_train):]\n",
    "X_test = X_test.drop(\"Income\", axis=1)"
   ]
  },
  {
   "cell_type": "code",
   "execution_count": null,
   "metadata": {},
   "outputs": [],
   "source": [
    "X_test.isnull().sum()"
   ]
  },
  {
   "cell_type": "code",
   "execution_count": null,
   "metadata": {},
   "outputs": [],
   "source": [
    "# Fill all null values with mean\n",
    "X_test[\"YearOfRecord\"].fillna((X_test[\"YearOfRecord\"].mean()), inplace=True )\n",
    "X_test[\"Age\"].fillna((X_test[\"Age\"].mean()), inplace=True )\n",
    "X_test[\"Profession\"].fillna((X_test[\"Profession\"].mean()), inplace=True )\n",
    "X_test[\"Country\"].fillna((X_test[\"Country\"].mean()), inplace=True )"
   ]
  },
  {
   "cell_type": "code",
   "execution_count": null,
   "metadata": {},
   "outputs": [],
   "source": [
    "X_test.isnull().sum()"
   ]
  },
  {
   "cell_type": "code",
   "execution_count": null,
   "metadata": {},
   "outputs": [],
   "source": [
    "Y_pred = model.predict(X_test)      # Predict response for out of sample data"
   ]
  },
  {
   "cell_type": "code",
   "execution_count": null,
   "metadata": {
    "scrolled": true
   },
   "outputs": [],
   "source": [
    "# Write predicted data to CSV\n",
    "Y_pred = pd.DataFrame(Y_pred)\n",
    "Y_pred.to_csv(\"E:/Trinity/Machine Learning/Kaggle/tcdml1920-income-ind/submission.csv\", sep=',', index=False, header=True)"
   ]
  }
 ],
 "metadata": {
  "kernelspec": {
   "display_name": "Python 3",
   "language": "python",
   "name": "python3"
  },
  "language_info": {
   "codemirror_mode": {
    "name": "ipython",
    "version": 3
   },
   "file_extension": ".py",
   "mimetype": "text/x-python",
   "name": "python",
   "nbconvert_exporter": "python",
   "pygments_lexer": "ipython3",
   "version": "3.7.3"
  },
  "widgets": {
   "application/vnd.jupyter.widget-state+json": {
    "state": {},
    "version_major": 2,
    "version_minor": 0
   }
  }
 },
 "nbformat": 4,
 "nbformat_minor": 4
}
